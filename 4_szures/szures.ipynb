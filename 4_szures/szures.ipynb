{
 "cells": [
  {
   "cell_type": "code",
   "execution_count": 5,
   "metadata": {},
   "outputs": [],
   "source": [
    "import pandas as pd\n",
    "import glob\n",
    "from collections import Counter"
   ]
  },
  {
   "cell_type": "code",
   "execution_count": 6,
   "metadata": {},
   "outputs": [],
   "source": [
    "x = pd.read_csv(glob.glob(\"../3_merging/data/*\")[0])"
   ]
  },
  {
   "cell_type": "code",
   "execution_count": 7,
   "metadata": {},
   "outputs": [
    {
     "name": "stdout",
     "output_type": "stream",
     "text": [
      "137 307845\n",
      "3740637.7683451828 nan 8070018.600189388\n"
     ]
    },
    {
     "name": "stderr",
     "output_type": "stream",
     "text": [
      "/home/berei/.local/lib/python3.6/site-packages/numpy/lib/function_base.py:3405: RuntimeWarning: Invalid value encountered in median\n",
      "  r = func(a, **kwargs)\n"
     ]
    },
    {
     "name": "stdout",
     "output_type": "stream",
     "text": [
      "90 305927\n",
      "3673478.98016536 nan 6192097.270128429\n",
      "90 303942\n",
      "3430995.6619559783 nan 4391851.895463051\n",
      "90 297278\n",
      "3505089.245444544 nan 4413000.987370238\n"
     ]
    }
   ],
   "source": [
    "print(len(x.groupby('MARKA_encoded').count()), len(x))\n",
    "print(pd.np.mean(x['vegso_ar']), pd.np.median(x['vegso_ar']), pd.np.std(x['vegso_ar']))\n",
    "\n",
    "x = x.drop(x[(x['freq']<50)].index )\n",
    "print(len(x.groupby('MARKA_encoded').count()), len(x))\n",
    "print(pd.np.mean(x['vegso_ar']), pd.np.median(x['vegso_ar']), pd.np.std(x['vegso_ar']))\n",
    "\n",
    "x = x.drop(x[(x['vegso_ar']>30000000)].index )\n",
    "print(len(x.groupby('MARKA_encoded').count()), len(x))\n",
    "print(pd.np.mean(x['vegso_ar']), pd.np.median(x['vegso_ar']), pd.np.std(x['vegso_ar']))\n",
    "\n",
    "x = x.drop(x[(x['vegso_ar']<200000)].index )\n",
    "print(len(x.groupby('MARKA_encoded').count()), len(x))\n",
    "print(pd.np.mean(x['vegso_ar']), pd.np.median(x['vegso_ar']), pd.np.std(x['vegso_ar']))\n",
    "\n",
    "x = x.drop(x[(x['TELJESITMENY LOERO']>800)].index )\n",
    "x = x.drop(x[(x['TELJESITMENY LOERO']<30)].index )\n",
    "x = x.drop(x[(x['MEGTETT']>1000000)].index )\n",
    "\n",
    "\n",
    "x[\"hany_eves\"] = x[\"hany_eves\"].apply(lambda x: 2019-x )\n",
    "\n",
    "x = x.drop(x[(x['hany_eves']>40)].index )\n",
    "\n",
    "x[\"hany_eves_2\"] = x[\"hany_eves\"]**2\n"
   ]
  },
  {
   "cell_type": "code",
   "execution_count": 8,
   "metadata": {},
   "outputs": [],
   "source": [
    "x.to_csv(\"data/cleaned.csv\")"
   ]
  },
  {
   "cell_type": "code",
   "execution_count": null,
   "metadata": {},
   "outputs": [],
   "source": []
  }
 ],
 "metadata": {
  "kernelspec": {
   "display_name": "Python 3",
   "language": "python",
   "name": "python3"
  },
  "language_info": {
   "codemirror_mode": {
    "name": "ipython",
    "version": 3
   },
   "file_extension": ".py",
   "mimetype": "text/x-python",
   "name": "python",
   "nbconvert_exporter": "python",
   "pygments_lexer": "ipython3",
   "version": "3.6.7"
  }
 },
 "nbformat": 4,
 "nbformat_minor": 2
}
