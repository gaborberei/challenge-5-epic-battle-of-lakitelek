{
 "cells": [
  {
   "cell_type": "code",
   "execution_count": 1,
   "metadata": {},
   "outputs": [],
   "source": [
    "import requests\n",
    "import datetime\n",
    "from bs4 import BeautifulSoup\n",
    "import pandas as pd\n",
    "from tqdm import tqdm_notebook as tqdm"
   ]
  },
  {
   "cell_type": "code",
   "execution_count": 2,
   "metadata": {},
   "outputs": [],
   "source": [
    "url = 'https://www.hasznaltauto.hu/talalatilista/PDNG2VG3R2RTADH5S56ADUDWM43H2XDJUV66SLZAO4YDJDMTKREUAU2G7X3XLAHNCKTE6WHH3A7L4BMQXNFH4BKZKZJGRCGYHGX6BBEDHAZFMSQRIY2EQ57IUON2BPIUIC46G2OBF7FDOGBRBTIEAGGF6EWIWJOJYAYIDL4NWIUUSIMF3AZPBOLGBZJGB37LFTXPJCSIMFHX2VVVICY35ARX7WKEPCTS7K7ETUMBA752DACUPDQVBJKOQGOH3QNR4YMT3UQFUN5UCPZ3O676CGXBBJFULXCLZNC7ELH6GRXMDSRHW3VGSDP65ODQX5QYPKFCC2PMLCVSQJVV67WZY7YF37HDCTAZ6ANGVVNMM34ZGUOXEDIQIL36KHO7U4CF3JWAGB3OB7RIWPJ5TFWE6XFFK2BYU6JCTZS4XZYSUM3NWTAZSWS6EMT3HY23A57IOICSBAU3RPRAR4RAX7KHYVGT6CKSYZ53JJ3DLW53MTXWM6475T6WYH6E6HAQND7SQK3EHX73N566MXD6SGOIDN7LOTGWOYTA2NJU6GHQHPCT34MMBHG6Q5BKX6OF4GUPH66SMAYRSY5SUFTHC7BKR6OS6QNP6IMFBKXFLH3LWBSBICLV6THLQUGDTEQAWSQ22TZVKWNVQ34ZENJJAMN5PCHGS3VMSFFGC6AX4UFDO33D5LBZTYJYNW5G7DAVS53R3Z2VSFW6D7TUA66HKC34452AE2V6Q3P6AXYNH7EPHYPH6AOHAFVHS'"
   ]
  },
  {
   "cell_type": "code",
   "execution_count": 3,
   "metadata": {},
   "outputs": [],
   "source": [
    "out = []\n",
    "maxpage = int(BeautifulSoup(requests.get(url).content,'html5lib').find('ul',{'class':'pagination'})\\\n",
    "            .find('li',{'class':'last'}).text.strip())"
   ]
  },
  {
   "cell_type": "code",
   "execution_count": 4,
   "metadata": {},
   "outputs": [
    {
     "data": {
      "text/plain": [
       "1074"
      ]
     },
     "execution_count": 4,
     "metadata": {},
     "output_type": "execute_result"
    }
   ],
   "source": [
    "maxpage"
   ]
  },
  {
   "cell_type": "code",
   "execution_count": null,
   "metadata": {},
   "outputs": [
    {
     "data": {
      "application/vnd.jupyter.widget-view+json": {
       "model_id": "7ab5e497a7e649928bbbbda52a1ca7b7",
       "version_major": 2,
       "version_minor": 0
      },
      "text/plain": [
       "HBox(children=(IntProgress(value=0, max=1074), HTML(value='')))"
      ]
     },
     "metadata": {},
     "output_type": "display_data"
    }
   ],
   "source": [
    "for i in tqdm(range(1,maxpage+1)):\n",
    "    soup = BeautifulSoup(requests.get(url + '/page%d' % i).content,'html5lib')\n",
    "    for car in soup.find_all('div',{'class':'talalati-sor'}):\n",
    "        dic = {'nev':car.find('h3').text.strip(),\n",
    "               'link':car.find('h3').find('a')['href'],\n",
    "              'price':car.find('div',{'class':'vetelar'}).text.strip()}\n",
    "        for aind,s in enumerate(car.find('div',{'class':'adatok'}).find_all('span')):\n",
    "            dic['adat-%d' % aind] = s.text.strip()\n",
    "        cimkelista = car.find('div',{'cimke-lista'})\n",
    "        if type(cimkelista) != type(None):\n",
    "            for cimke in cimkelista.find_all('span'):\n",
    "                dic[cimke.text] = 1\n",
    "        out.append(dic.copy())"
   ]
  },
  {
   "cell_type": "code",
   "execution_count": null,
   "metadata": {},
   "outputs": [],
   "source": [
    "pd.DataFrame(out).drop_duplicates().to_csv('data/hasznaltauto-%s.csv' % str(datetime.date.today()),index=None)"
   ]
  },
  {
   "cell_type": "code",
   "execution_count": null,
   "metadata": {},
   "outputs": [],
   "source": []
  }
 ],
 "metadata": {
  "kernelspec": {
   "display_name": "Python 3",
   "language": "python",
   "name": "python3"
  },
  "language_info": {
   "codemirror_mode": {
    "name": "ipython",
    "version": 3
   },
   "file_extension": ".py",
   "mimetype": "text/x-python",
   "name": "python",
   "nbconvert_exporter": "python",
   "pygments_lexer": "ipython3",
   "version": "3.6.7"
  }
 },
 "nbformat": 4,
 "nbformat_minor": 2
}
