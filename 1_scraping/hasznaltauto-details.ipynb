{
 "cells": [
  {
   "cell_type": "code",
   "execution_count": 1,
   "metadata": {},
   "outputs": [],
   "source": [
    "import requests\n",
    "import datetime\n",
    "from bs4 import BeautifulSoup\n",
    "import pandas as pd\n",
    "from tqdm import tqdm_notebook as tqdm"
   ]
  },
  {
   "cell_type": "code",
   "execution_count": 2,
   "metadata": {},
   "outputs": [],
   "source": [
    "url = 'https://www.hasznaltauto.hu/talalatilista/PDNG2VG3R2NTAEH5C57QDBFEXN2R4K2V5JFX4AKNZJABYXZGWIG5UEHF345QNOUL3E6DCOTHFZTS4BTEKXEUPEHFJYFA2EJ36IFE4OEIENR2KFDBISF6MDT5UQE5USYBEZ3TYMP6F3CZSBQVGHDBSSFRANDDJYDLVNOIULNECBNQMPWWZRAQV3D5TXCZ2XQRFHWLJSFZIAMB3GCYL7A5W7WKENCTS7O7UTUMBA73VPAKR4GCMGLRUBCD5YC4ONOP5DIVYMGSBM5FKVV6MFCWDAEGGWEOGWIWDFB37YI24EFIWVXOWJS7T3H3U6Q26KJN3CVNWNPYX5JW5RLD5BGQZKL2YUVIUYWS6G7NL4JL7D3HGKIWXSDFUNNLFH7WJFA2GRTIEF57VBXH3OFC3HWASB3ODTRIWDL6GLMQMWNFK3UQZMSEHTSZN3ZHIZW3PGJSFJF4KMT3XY6XA57I6IFGADG4RDXQZZCBH3KDZ5DJFVFJNM55JP3G5NVLMRL3HPKP6Z7LMD7C7BSIGR3ZIHL2D375W47HGLV7KXHMBWZFLXZQCWOY6TKBWDHYTXRJ46GGA3WUQOWJM7L4ONH66S6CYRCYF2WFRHBJQRI7GDPKGX7EGCQVVBKR625QMQKA32XIZFJKRYLMEAFUUNKMZ5L6LVA24YN5ORSZ3C4ENNFXUQT2WMF5CX2IGGRVXH53BZTYJYMG4G7RAM43VEFHF3F4F67DDTUO4GHKSZ6APRTGRLPONHYDH7NC75HZ7QDUZ4TQCI'"
   ]
  },
  {
   "cell_type": "code",
   "execution_count": 3,
   "metadata": {},
   "outputs": [],
   "source": [
    "out = []\n",
    "maxpage = int(BeautifulSoup(requests.get(url).content,'html5lib').find('ul',{'class':'pagination'})\\\n",
    "            .find('li',{'class':'last'}).text.strip())"
   ]
  },
  {
   "cell_type": "code",
   "execution_count": null,
   "metadata": {},
   "outputs": [
    {
     "data": {
      "application/vnd.jupyter.widget-view+json": {
       "model_id": "ff7dfe4e0d4a4d299e87d260e9acc839",
       "version_major": 2,
       "version_minor": 0
      },
      "text/plain": [
       "HBox(children=(IntProgress(value=0, max=1074), HTML(value='')))"
      ]
     },
     "metadata": {},
     "output_type": "display_data"
    }
   ],
   "source": [
    "for i in tqdm(range(1,maxpage+1)):\n",
    "    soup = BeautifulSoup(requests.get(url + '/page%d' % i).content,'html5lib')\n",
    "    for car in soup.find_all('div',{'class':'talalati-sor'}):\n",
    "        dic = {'nev':car.find('h3').text.strip(),\n",
    "               'link':car.find('h3').find('a')['href'],\n",
    "              'price':car.find('div',{'class':'vetelar'}).text.strip()}\n",
    "        for aind,s in enumerate(car.find('div',{'class':'adatok'}).find_all('span')):\n",
    "            dic['adat-%d' % aind] = s.text.strip()\n",
    "        cimkelista = car.find('div',{'cimke-lista'})\n",
    "        if type(cimkelista) != type(None):\n",
    "            for cimke in cimkelista.find_all('span'):\n",
    "                dic[cimke.text] = 1\n",
    "        out.append(dic.copy())"
   ]
  },
  {
   "cell_type": "code",
   "execution_count": null,
   "metadata": {},
   "outputs": [],
   "source": [
    "pd.DataFrame(out).drop_duplicates().to_csv('data/hasznaltauto-%s.csv' % str(datetime.date.today()),index=None)+\"_hahu\""
   ]
  },
  {
   "cell_type": "code",
   "execution_count": null,
   "metadata": {},
   "outputs": [],
   "source": []
  },
  {
   "cell_type": "code",
   "execution_count": 1,
   "metadata": {},
   "outputs": [],
   "source": [
    "url = 'https://www.hasznaltauto.hu/szemelyauto/citroen/c3_aircross/citroen_c3_aircross_feel_1_2pt_82le-12799518'"
   ]
  },
  {
   "cell_type": "code",
   "execution_count": 9,
   "metadata": {},
   "outputs": [],
   "source": [
    "def get_details(url):\n",
    "    soup = BeautifulSoup(requests.get(url).content,'html5lib')\n",
    "\n",
    "    out = {'leiras':soup.find('div',{'class':'leiras'}).text.strip(),\n",
    "          'url':url}\n",
    "    for tr in soup.find('table',{'class':'hirdetesadatok'}).find_all('tr'):\n",
    "        tds = tr.find_all('td')\n",
    "        if len(tds) > 1:\n",
    "            out[tds[0].text.strip()] = tds[1].text.strip()\n",
    "\n",
    "    return out"
   ]
  },
  {
   "cell_type": "code",
   "execution_count": 10,
   "metadata": {},
   "outputs": [
    {
     "data": {
      "text/plain": [
       "{'leiras': 'Leírás\\n                Egyedi ajánlatainkért hívjon, foglaljon időpontot és személyesen megbeszéljük. A hirdetés nem minősül hivatalos ajánlattételnek. A jelenlegi kép csak illusztráció. Az akció részleteiről és feltételeiről keressen minket bizalommal. Szalonunk hétfőtől péntekig 8-17 óra között, szombaton 8-12 óra között tart nyitva.',\n",
       " 'Vételár:': '4\\xa0710\\xa0000\\xa0Ft',\n",
       " 'Vételár EUR:': '€\\xa014\\xa0922',\n",
       " 'Átvehető:': '2019.',\n",
       " 'Évjárat:': '2018/4',\n",
       " 'Állapot:': 'Kitűnő',\n",
       " 'Kivitel:': 'Városi terepjáró (crossover)',\n",
       " 'Kilométeróra állása:': '5 km',\n",
       " 'Ajtók száma:': '5',\n",
       " 'Szín:': 'Fehér',\n",
       " 'Kárpit színe (1):': 'Fekete',\n",
       " 'Klíma fajtája:': 'Manuális klíma',\n",
       " 'Üzemanyag:': 'Benzin',\n",
       " 'Hengerűrtartalom:': '1\\xa0199 cm³',\n",
       " 'Teljesítmény:': '60 kW, 82 LE',\n",
       " 'Sebességváltó fajtája:': 'Manuális (5 fokozatú) sebességváltó',\n",
       " 'Okmányok jellege:': 'Okmányok nélkül',\n",
       " 'Műszaki vizsga érvényes:': '2018/5',\n",
       " 'Nyári gumi méret:': '195/55\\xa0R\\xa016'}"
      ]
     },
     "execution_count": 10,
     "metadata": {},
     "output_type": "execute_result"
    }
   ],
   "source": [
    "get_details(url)"
   ]
  }
 ],
 "metadata": {
  "kernelspec": {
   "display_name": "Python 3",
   "language": "python",
   "name": "python3"
  },
  "language_info": {
   "codemirror_mode": {
    "name": "ipython",
    "version": 3
   },
   "file_extension": ".py",
   "mimetype": "text/x-python",
   "name": "python",
   "nbconvert_exporter": "python",
   "pygments_lexer": "ipython3",
   "version": "3.6.4"
  }
 },
 "nbformat": 4,
 "nbformat_minor": 2
}
