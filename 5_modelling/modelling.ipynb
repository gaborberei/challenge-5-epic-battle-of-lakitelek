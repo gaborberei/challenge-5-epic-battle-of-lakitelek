{
 "cells": [
  {
   "cell_type": "code",
   "execution_count": 1,
   "metadata": {},
   "outputs": [],
   "source": [
    "import pandas as pd\n",
    "import glob\n",
    "\n",
    "\n",
    "from sklearn.model_selection import train_test_split\n",
    "from sklearn.linear_model import LinearRegression\n",
    "from sklearn.metrics import mean_squared_error\n",
    "\n",
    "from pathlib import Path"
   ]
  },
  {
   "cell_type": "code",
   "execution_count": 2,
   "metadata": {},
   "outputs": [],
   "source": [
    "input_files = str(Path('../4_szures/data/*.csv'))"
   ]
  },
  {
   "cell_type": "code",
   "execution_count": 3,
   "metadata": {},
   "outputs": [],
   "source": [
    "x = pd.read_csv(glob.glob(input_files)[0]).drop([\"Unnamed: 0\",\"Unnamed: 0.1\"],axis=1)\\\n",
    ".pipe(lambda df:df.loc[df[\"sold\"]==1]).fillna(0)"
   ]
  },
  {
   "cell_type": "code",
   "execution_count": 4,
   "metadata": {},
   "outputs": [],
   "source": [
    "x = x.loc[x[\"vegso_ar\"]!=0]\n"
   ]
  },
  {
   "cell_type": "code",
   "execution_count": 5,
   "metadata": {},
   "outputs": [],
   "source": [
    "y = x[\"vegso_ar\"]\n",
    "lg10_y = pd.np.log10(y)\n",
    "x[\"lg10_AR\"] = lg10_y\n",
    "\n",
    "x = x.drop(['vegso_ar',\"lg10_AR\"], axis=1)\n"
   ]
  },
  {
   "cell_type": "code",
   "execution_count": 6,
   "metadata": {},
   "outputs": [],
   "source": [
    "szukitett = x[[\"hany_eves\",\"hany_eves_2\",\"MEGTETT\",\"MEGTETT_2\",\"KLÍMA\",\"LÉGZSÁK\",\\\n",
    "               \"ALUFELNI\",\"ASR\",\"AUTOMATA\",\"BI-XENON\",\"BLUETOOTH\",\"TELJESITMENY LOERO\",\\\n",
    "               \"audi\",\"mercedes-benz\",\"bmw\",\"infiniti\",\"jaguar\",\"land_rover\",\"porsche\",\\\n",
    "               \"lexus\",\"maserati\",\"Hibrid\",\"Elektromos\",\"Dízel\",\"Benzin\"]].fillna(0)"
   ]
  },
  {
   "cell_type": "code",
   "execution_count": 7,
   "metadata": {},
   "outputs": [
    {
     "name": "stdout",
     "output_type": "stream",
     "text": [
      "6.587655503948437\n"
     ]
    }
   ],
   "source": [
    "x_train, x_test, y_train, y_test = train_test_split(szukitett.dropna(), lg10_y, test_size=0.2, random_state=42)\n",
    "\n",
    "lreg = LinearRegression()\n",
    "\n",
    "result = lreg.fit(x_train, y_train)\n",
    "\n",
    "y_test_pred = result.predict(x_test)\n",
    "\n",
    "lin_mse = mean_squared_error(y_test, y_test_pred)\n",
    "lin_rmse = pd.np.sqrt(lin_mse)\n",
    "lin_rmse\n",
    "\n",
    "print(result.intercept_)\n"
   ]
  },
  {
   "cell_type": "code",
   "execution_count": 8,
   "metadata": {},
   "outputs": [],
   "source": [
    "pd.DataFrame(szukitett.loc[9]).to_csv(\"proba.csv\")"
   ]
  },
  {
   "cell_type": "code",
   "execution_count": 9,
   "metadata": {},
   "outputs": [],
   "source": [
    "import pickle\n",
    "\n",
    "\n",
    "output_file = str(Path('data/finalized_model.sav'))\n",
    "\n",
    "# save the model to disk\n",
    "\n",
    "pickle.dump(result, open(output_file, 'wb'))"
   ]
  },
  {
   "cell_type": "code",
   "execution_count": null,
   "metadata": {},
   "outputs": [],
   "source": []
  },
  {
   "cell_type": "code",
   "execution_count": 46,
   "metadata": {},
   "outputs": [],
   "source": []
  },
  {
   "cell_type": "code",
   "execution_count": 107,
   "metadata": {},
   "outputs": [],
   "source": [
    "import json"
   ]
  },
  {
   "cell_type": "code",
   "execution_count": 41,
   "metadata": {},
   "outputs": [
    {
     "data": {
      "text/plain": [
       "41"
      ]
     },
     "execution_count": 41,
     "metadata": {},
     "output_type": "execute_result"
    }
   ],
   "source": [
    "szukitett[\"hany_eves\"].nunique()"
   ]
  },
  {
   "cell_type": "code",
   "execution_count": 44,
   "metadata": {},
   "outputs": [],
   "source": [
    "nuniques = [szukitett[col].nunique() for col in szukitett.columns]"
   ]
  },
  {
   "cell_type": "code",
   "execution_count": 57,
   "metadata": {},
   "outputs": [],
   "source": [
    "number_vals = [idx for idx,val in enumerate(nuniques) if val >2]"
   ]
  },
  {
   "cell_type": "code",
   "execution_count": 64,
   "metadata": {},
   "outputs": [],
   "source": [
    "auto_marka = ['audi', 'mercedes-benz', 'bmw', 'infiniti',\n",
    "              'jaguar', 'land_rover', 'porsche', 'lexus', 'maserati']\n",
    "hajtaslanc = ['Hibrid', 'Elektromos', 'Dízel', 'Benzin']\n",
    "felszereltseg = szukitett.columns.drop(auto_marka + hajtaslanc + list(szukitett.columns[number_vals]))"
   ]
  },
  {
   "cell_type": "code",
   "execution_count": 65,
   "metadata": {},
   "outputs": [
    {
     "data": {
      "text/plain": [
       "Index(['KLÍMA', 'LÉGZSÁK', 'ALUFELNI', 'ASR', 'AUTOMATA', 'BI-XENON',\n",
       "       'BLUETOOTH'],\n",
       "      dtype='object')"
      ]
     },
     "execution_count": 65,
     "metadata": {},
     "output_type": "execute_result"
    }
   ],
   "source": [
    "felszereltseg"
   ]
  },
  {
   "cell_type": "code",
   "execution_count": 116,
   "metadata": {},
   "outputs": [],
   "source": [
    "details = {\"number\":list(szukitett.columns[number_vals]),\"Dropdown\":{\"auto_marka\":auto_marka,\"hajtaslanc\":hajtaslanc}\\\n",
    "          ,\"boolen\":list(felszereltseg)}"
   ]
  },
  {
   "cell_type": "code",
   "execution_count": 117,
   "metadata": {},
   "outputs": [],
   "source": [
    "json_file = json.dumps(details)\n",
    "f = open(\"dict.json\",\"w\")\n",
    "f.write(json_file)\n",
    "f.close()"
   ]
  },
  {
   "cell_type": "code",
   "execution_count": 122,
   "metadata": {},
   "outputs": [],
   "source": [
    "with open('dict.json') as json_file:  \n",
    "    data = json.load(json_file)"
   ]
  },
  {
   "cell_type": "code",
   "execution_count": null,
   "metadata": {},
   "outputs": [],
   "source": []
  },
  {
   "cell_type": "code",
   "execution_count": 27,
   "metadata": {},
   "outputs": [
    {
     "data": {
      "text/plain": [
       "array([-6.67337663e-02,  1.02209617e-03, -5.59380994e-07,  6.60755176e-14,\n",
       "        2.17679007e-02, -1.34991729e-02,  4.70939703e-02,  2.42267445e-02,\n",
       "        5.40959252e-02,  2.20176724e-02,  1.16100102e-02,  1.98509733e-03,\n",
       "        9.77286415e-02,  1.22520958e-01,  8.45762947e-02,  3.99166686e-02,\n",
       "        4.54006378e-02,  2.05456232e-01,  2.29013232e-01,  1.42573703e-01,\n",
       "        1.23437925e-01,  3.20587568e-02,  3.66179902e-01,  9.30756745e-04,\n",
       "       -5.09140080e-02])"
      ]
     },
     "execution_count": 27,
     "metadata": {},
     "output_type": "execute_result"
    }
   ],
   "source": [
    "result.coef_"
   ]
  },
  {
   "cell_type": "code",
   "execution_count": 31,
   "metadata": {},
   "outputs": [
    {
     "data": {
      "text/plain": [
       "25"
      ]
     },
     "execution_count": 31,
     "metadata": {},
     "output_type": "execute_result"
    }
   ],
   "source": [
    "len(x_train.columns)"
   ]
  },
  {
   "cell_type": "code",
   "execution_count": null,
   "metadata": {},
   "outputs": [],
   "source": []
  },
  {
   "cell_type": "code",
   "execution_count": null,
   "metadata": {},
   "outputs": [],
   "source": []
  },
  {
   "cell_type": "code",
   "execution_count": null,
   "metadata": {},
   "outputs": [],
   "source": [
    "\n"
   ]
  }
 ],
 "metadata": {
  "kernelspec": {
   "display_name": "Python 3",
   "language": "python",
   "name": "python3"
  },
  "language_info": {
   "codemirror_mode": {
    "name": "ipython",
    "version": 3
   },
   "file_extension": ".py",
   "mimetype": "text/x-python",
   "name": "python",
   "nbconvert_exporter": "python",
   "pygments_lexer": "ipython3",
   "version": "3.6.7"
  }
 },
 "nbformat": 4,
 "nbformat_minor": 2
}
