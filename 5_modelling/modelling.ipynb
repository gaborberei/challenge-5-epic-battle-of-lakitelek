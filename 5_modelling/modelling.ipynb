{
 "cells": [
  {
   "cell_type": "code",
   "execution_count": 321,
   "metadata": {},
   "outputs": [],
   "source": [
    "import pandas as pd\n",
    "import glob\n",
    "\n",
    "\n",
    "from sklearn.model_selection import train_test_split\n",
    "from sklearn.linear_model import LinearRegression\n",
    "from sklearn.metrics import mean_squared_error\n",
    "\n",
    "from pathlib import Path"
   ]
  },
  {
   "cell_type": "code",
   "execution_count": 322,
   "metadata": {},
   "outputs": [],
   "source": [
    "input_files = str(Path('../4_szures/data/*.csv'))"
   ]
  },
  {
   "cell_type": "code",
   "execution_count": 323,
   "metadata": {},
   "outputs": [],
   "source": [
    "x = pd.read_csv(glob.glob(input_files)[0]).drop([\"Unnamed: 0\",\"Unnamed: 0.1\"],axis=1)\\\n",
    ".pipe(lambda df:df.loc[df[\"sold\"]==1]).fillna(0).rename(columns = {\"TELJESITMENY LOERO\":\"LOERO\",\"MEGTETT\":\"MEGTETT_KM\",\"MEGTETT_2\":\"MEGTETT_KM_2\",\"BI-XENON\":\"BI_XENON\"})"
   ]
  },
  {
   "cell_type": "code",
   "execution_count": 324,
   "metadata": {},
   "outputs": [],
   "source": [
    "x = x.loc[x[\"vegso_ar\"]!=0]\n"
   ]
  },
  {
   "cell_type": "code",
   "execution_count": 325,
   "metadata": {},
   "outputs": [],
   "source": [
    "y = x[\"vegso_ar\"]\n",
    "lg10_y = pd.np.log10(y)\n",
    "x[\"lg10_AR\"] = lg10_y\n",
    "\n",
    "x = x.drop(['vegso_ar',\"lg10_AR\"], axis=1)\n"
   ]
  },
  {
   "cell_type": "code",
   "execution_count": 326,
   "metadata": {},
   "outputs": [],
   "source": [
    "szukitett = x[[\"hany_eves\",\"hany_eves_2\",\"MEGTETT_KM\",\"MEGTETT_KM_2\",\"KLÍMA\",\"LÉGZSÁK\",\\\n",
    "               \"ALUFELNI\",\"ASR\",\"AUTOMATA\",\"BI_XENON\",\"BLUETOOTH\",\"LOERO\",\\\n",
    "               \"audi\",\"mercedes-benz\",\"bmw\",\"infiniti\",\"jaguar\",\"land_rover\",\"porsche\",\\\n",
    "               \"lexus\",\"maserati\",\"Hibrid\",\"Elektromos\",\"Dízel\",\"Benzin\"]].fillna(0)"
   ]
  },
  {
   "cell_type": "code",
   "execution_count": 327,
   "metadata": {},
   "outputs": [
    {
     "name": "stdout",
     "output_type": "stream",
     "text": [
      "6.587655503948437\n"
     ]
    }
   ],
   "source": [
    "x_train, x_test, y_train, y_test = train_test_split(szukitett.dropna(), lg10_y, test_size=0.2, random_state=42)\n",
    "\n",
    "lreg = LinearRegression()\n",
    "\n",
    "result = lreg.fit(x_train, y_train)\n",
    "\n",
    "y_test_pred = result.predict(x_test)\n",
    "\n",
    "lin_mse = mean_squared_error(y_test, y_test_pred)\n",
    "lin_rmse = pd.np.sqrt(lin_mse)\n",
    "lin_rmse\n",
    "\n",
    "print(result.intercept_)\n"
   ]
  },
  {
   "cell_type": "code",
   "execution_count": 328,
   "metadata": {},
   "outputs": [],
   "source": [
    "pd.DataFrame(szukitett.loc[9]).to_csv(\"proba.csv\")"
   ]
  },
  {
   "cell_type": "code",
   "execution_count": 329,
   "metadata": {},
   "outputs": [],
   "source": [
    "import pickle\n",
    "\n",
    "\n",
    "output_file = str(Path('data/finalized_model.sav'))\n",
    "\n",
    "# save the model to disk\n",
    "\n",
    "pickle.dump(result, open(output_file, 'wb'))"
   ]
  },
  {
   "cell_type": "code",
   "execution_count": null,
   "metadata": {},
   "outputs": [],
   "source": []
  },
  {
   "cell_type": "code",
   "execution_count": null,
   "metadata": {},
   "outputs": [],
   "source": []
  },
  {
   "cell_type": "code",
   "execution_count": 330,
   "metadata": {},
   "outputs": [],
   "source": [
    "import json"
   ]
  },
  {
   "cell_type": "code",
   "execution_count": 331,
   "metadata": {},
   "outputs": [
    {
     "data": {
      "text/plain": [
       "41"
      ]
     },
     "execution_count": 331,
     "metadata": {},
     "output_type": "execute_result"
    }
   ],
   "source": [
    "szukitett[\"hany_eves\"].nunique()"
   ]
  },
  {
   "cell_type": "code",
   "execution_count": 332,
   "metadata": {},
   "outputs": [],
   "source": [
    "nuniques = [szukitett[col].nunique() for col in szukitett.columns]"
   ]
  },
  {
   "cell_type": "code",
   "execution_count": 333,
   "metadata": {},
   "outputs": [],
   "source": [
    "number_vals = [idx for idx,val in enumerate(nuniques) if val >2]"
   ]
  },
  {
   "cell_type": "code",
   "execution_count": 334,
   "metadata": {},
   "outputs": [],
   "source": [
    "auto_marka = ['audi', 'mercedes-benz', 'bmw', 'infiniti',\n",
    "              'jaguar', 'land_rover', 'porsche', 'lexus', 'maserati']\n",
    "hajtaslanc = ['Hibrid', 'Elektromos', 'Dízel', 'Benzin']\n",
    "felszereltseg = szukitett.columns.drop(auto_marka + hajtaslanc + list(szukitett.columns[number_vals]))"
   ]
  },
  {
   "cell_type": "code",
   "execution_count": 335,
   "metadata": {},
   "outputs": [
    {
     "data": {
      "text/plain": [
       "Index(['KLÍMA', 'LÉGZSÁK', 'ALUFELNI', 'ASR', 'AUTOMATA', 'BI_XENON',\n",
       "       'BLUETOOTH'],\n",
       "      dtype='object')"
      ]
     },
     "execution_count": 335,
     "metadata": {},
     "output_type": "execute_result"
    }
   ],
   "source": [
    "felszereltseg"
   ]
  },
  {
   "cell_type": "code",
   "execution_count": 336,
   "metadata": {},
   "outputs": [],
   "source": [
    "details = {\"number\":list(szukitett.columns[number_vals]),\"Dropdown\":{\"auto_marka\":auto_marka,\"hajtaslanc\":hajtaslanc}\\\n",
    "          ,\"boolen\":list(felszereltseg),\"all\":list(szukitett.columns)}"
   ]
  },
  {
   "cell_type": "code",
   "execution_count": 337,
   "metadata": {},
   "outputs": [],
   "source": [
    "json_file = json.dumps(details)\n",
    "f = open(\"data/dict.json\",\"w\")\n",
    "f.write(json_file)\n",
    "f.close()"
   ]
  },
  {
   "cell_type": "code",
   "execution_count": 338,
   "metadata": {},
   "outputs": [],
   "source": [
    "with open('data/dict.json') as json_file:  \n",
    "    data_dict = json.load(json_file)"
   ]
  },
  {
   "cell_type": "code",
   "execution_count": 339,
   "metadata": {},
   "outputs": [
    {
     "data": {
      "text/plain": [
       "{'Dropdown': {'auto_marka': ['audi',\n",
       "   'mercedes-benz',\n",
       "   'bmw',\n",
       "   'infiniti',\n",
       "   'jaguar',\n",
       "   'land_rover',\n",
       "   'porsche',\n",
       "   'lexus',\n",
       "   'maserati'],\n",
       "  'hajtaslanc': ['Hibrid', 'Elektromos', 'Dízel', 'Benzin']},\n",
       " 'all': ['hany_eves',\n",
       "  'hany_eves_2',\n",
       "  'MEGTETT_KM',\n",
       "  'MEGTETT_KM_2',\n",
       "  'KLÍMA',\n",
       "  'LÉGZSÁK',\n",
       "  'ALUFELNI',\n",
       "  'ASR',\n",
       "  'AUTOMATA',\n",
       "  'BI_XENON',\n",
       "  'BLUETOOTH',\n",
       "  'LOERO',\n",
       "  'audi',\n",
       "  'mercedes-benz',\n",
       "  'bmw',\n",
       "  'infiniti',\n",
       "  'jaguar',\n",
       "  'land_rover',\n",
       "  'porsche',\n",
       "  'lexus',\n",
       "  'maserati',\n",
       "  'Hibrid',\n",
       "  'Elektromos',\n",
       "  'Dízel',\n",
       "  'Benzin'],\n",
       " 'boolen': ['KLÍMA',\n",
       "  'LÉGZSÁK',\n",
       "  'ALUFELNI',\n",
       "  'ASR',\n",
       "  'AUTOMATA',\n",
       "  'BI_XENON',\n",
       "  'BLUETOOTH'],\n",
       " 'number': ['hany_eves', 'hany_eves_2', 'MEGTETT_KM', 'MEGTETT_KM_2', 'LOERO']}"
      ]
     },
     "execution_count": 339,
     "metadata": {},
     "output_type": "execute_result"
    }
   ],
   "source": [
    "data_dict"
   ]
  },
  {
   "cell_type": "code",
   "execution_count": 342,
   "metadata": {},
   "outputs": [],
   "source": [
    "with open('data/dict.json') as json_file:  \n",
    "    data_dict = json.load(json_file)"
   ]
  },
  {
   "cell_type": "code",
   "execution_count": 344,
   "metadata": {},
   "outputs": [],
   "source": [
    "numbers  = [val for idx,val in enumerate(data_dict[\"number\"]) if data_dict[\"number\"][idx][:5]!=data_dict[\"number\"][idx-1][:5]]"
   ]
  },
  {
   "cell_type": "code",
   "execution_count": 346,
   "metadata": {},
   "outputs": [
    {
     "data": {
      "text/plain": [
       "['auto_marka', 'hajtaslanc']"
      ]
     },
     "execution_count": 346,
     "metadata": {},
     "output_type": "execute_result"
    }
   ],
   "source": [
    "list(data_dict[\"Dropdown\"].keys())\n"
   ]
  },
  {
   "cell_type": "code",
   "execution_count": null,
   "metadata": {},
   "outputs": [],
   "source": []
  }
 ],
 "metadata": {
  "kernelspec": {
   "display_name": "Python 3",
   "language": "python",
   "name": "python3"
  },
  "language_info": {
   "codemirror_mode": {
    "name": "ipython",
    "version": 3
   },
   "file_extension": ".py",
   "mimetype": "text/x-python",
   "name": "python",
   "nbconvert_exporter": "python",
   "pygments_lexer": "ipython3",
   "version": "3.6.7"
  }
 },
 "nbformat": 4,
 "nbformat_minor": 2
}
