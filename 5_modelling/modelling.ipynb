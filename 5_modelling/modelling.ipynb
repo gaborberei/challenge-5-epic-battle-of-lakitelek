{
 "cells": [
  {
   "cell_type": "code",
   "execution_count": 1,
   "metadata": {},
   "outputs": [],
   "source": [
    "import pandas as pd\n",
    "import glob\n",
    "\n",
    "\n",
    "from sklearn.model_selection import train_test_split\n",
    "from sklearn.linear_model import LinearRegression\n",
    "from sklearn.metrics import mean_squared_error\n"
   ]
  },
  {
   "cell_type": "code",
   "execution_count": null,
   "metadata": {},
   "outputs": [],
   "source": []
  },
  {
   "cell_type": "code",
   "execution_count": 2,
   "metadata": {},
   "outputs": [],
   "source": [
    "x = pd.read_csv(glob.glob(\"../4_szures/data/*.csv\")[0]).drop([\"Unnamed: 0\",\"Unnamed: 0.1\"],axis=1)\\\n",
    ".pipe(lambda df:df.loc[df[\"sold\"]==1]).fillna(0)"
   ]
  },
  {
   "cell_type": "code",
   "execution_count": 10,
   "metadata": {},
   "outputs": [],
   "source": [
    "x = x.loc[x[\"vegso_ar\"]!=0]\n"
   ]
  },
  {
   "cell_type": "code",
   "execution_count": 11,
   "metadata": {},
   "outputs": [],
   "source": [
    "y = x[\"vegso_ar\"]\n",
    "lg10_y = pd.np.log10(y)\n",
    "x[\"lg10_AR\"] = lg10_y\n",
    "\n",
    "x = x.drop(['vegso_ar',\"lg10_AR\"], axis=1)\n"
   ]
  },
  {
   "cell_type": "code",
   "execution_count": 12,
   "metadata": {},
   "outputs": [],
   "source": [
    "szukitett = x[[\"hany_eves\",\"hany_eves_2\",\"MEGTETT\",\"MEGTETT_2\",\"KLÍMA\",\"LÉGZSÁK\",\\\n",
    "               \"ALUFELNI\",\"ASR\",\"AUTOMATA\",\"BI-XENON\",\"BLUETOOTH\",\"TELJESITMENY LOERO\",\\\n",
    "               \"audi\",\"mercedes-benz\",\"bmw\",\"infiniti\",\"jaguar\",\"land_rover\",\"porsche\",\\\n",
    "               \"lexus\",\"maserati\",\"Hibrid\",\"Elektromos\",\"Dízel\",\"Benzin\"]].fillna(0)"
   ]
  },
  {
   "cell_type": "code",
   "execution_count": 13,
   "metadata": {},
   "outputs": [
    {
     "name": "stdout",
     "output_type": "stream",
     "text": [
      "6.587655503948437\n"
     ]
    }
   ],
   "source": [
    "x_train, x_test, y_train, y_test = train_test_split(szukitett.dropna(), lg10_y, test_size=0.2, random_state=42)\n",
    "\n",
    "lreg = LinearRegression()\n",
    "\n",
    "result = lreg.fit(x_train, y_train)\n",
    "\n",
    "y_test_pred = result.predict(x_test)\n",
    "\n",
    "lin_mse = mean_squared_error(y_test, y_test_pred)\n",
    "lin_rmse = pd.np.sqrt(lin_mse)\n",
    "lin_rmse\n",
    "\n",
    "print(result.intercept_)\n"
   ]
  },
  {
   "cell_type": "code",
   "execution_count": 21,
   "metadata": {},
   "outputs": [],
   "source": [
    "pd.DataFrame(szukitett.loc[9]).to_csv(\"proba.csv\")"
   ]
  },
  {
   "cell_type": "code",
   "execution_count": 96,
   "metadata": {},
   "outputs": [],
   "source": [
    "import pickle\n",
    "\n",
    "# save the model to disk\n",
    "filename = 'data/finalized_model.sav'\n",
    "pickle.dump(result, open(filename, 'wb'))\n",
    "\n",
    "\n"
   ]
  }
 ],
 "metadata": {
  "kernelspec": {
   "display_name": "Python 3",
   "language": "python",
   "name": "python3"
  },
  "language_info": {
   "codemirror_mode": {
    "name": "ipython",
    "version": 3
   },
   "file_extension": ".py",
   "mimetype": "text/x-python",
   "name": "python",
   "nbconvert_exporter": "python",
   "pygments_lexer": "ipython3",
   "version": "3.6.7"
  }
 },
 "nbformat": 4,
 "nbformat_minor": 2
}
