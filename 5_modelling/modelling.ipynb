{
 "cells": [
  {
   "cell_type": "code",
   "execution_count": 237,
   "metadata": {},
   "outputs": [],
   "source": [
    "import pandas as pd\n",
    "import glob\n",
    "\n",
    "\n",
    "from sklearn.model_selection import train_test_split\n",
    "from sklearn.linear_model import LinearRegression\n",
    "from sklearn.metrics import mean_squared_error\n",
    "\n",
    "from pathlib import Path"
   ]
  },
  {
   "cell_type": "code",
   "execution_count": 238,
   "metadata": {},
   "outputs": [],
   "source": [
    "input_files = str(Path('../4_szures/data/*.csv'))"
   ]
  },
  {
   "cell_type": "code",
   "execution_count": 239,
   "metadata": {},
   "outputs": [],
   "source": [
    "x = pd.read_csv(glob.glob(input_files)[0]).drop([\"Unnamed: 0\",\"Unnamed: 0.1\"],axis=1)\\\n",
    ".pipe(lambda df:df.loc[df[\"sold\"]==1]).fillna(0).rename(columns = {\"TELJESITMENY LOERO\":\"LOERO\",\"MEGTETT\":\"MEGTETT_KM\",\"MEGTETT_2\":\"MEGTETT_KM_2\",\"BI-XENON\":\"BI_XENON\"})"
   ]
  },
  {
   "cell_type": "code",
   "execution_count": 240,
   "metadata": {},
   "outputs": [],
   "source": [
    "x = x.loc[x[\"vegso_ar\"]!=0]\n"
   ]
  },
  {
   "cell_type": "code",
   "execution_count": 241,
   "metadata": {},
   "outputs": [],
   "source": [
    "y = x[\"vegso_ar\"]\n",
    "lg10_y = pd.np.log10(y)\n",
    "x[\"lg10_AR\"] = lg10_y\n",
    "\n",
    "x = x.drop(['vegso_ar',\"lg10_AR\"], axis=1)\n"
   ]
  },
  {
   "cell_type": "code",
   "execution_count": 242,
   "metadata": {},
   "outputs": [
    {
     "ename": "KeyError",
     "evalue": "\"['BI-XENON'] not in index\"",
     "output_type": "error",
     "traceback": [
      "\u001b[0;31m---------------------------------------------------------------------------\u001b[0m",
      "\u001b[0;31mKeyError\u001b[0m                                  Traceback (most recent call last)",
      "\u001b[0;32m<ipython-input-242-544be048ea57>\u001b[0m in \u001b[0;36m<module>\u001b[0;34m()\u001b[0m\n\u001b[0;32m----> 1\u001b[0;31m \u001b[0mszukitett\u001b[0m \u001b[0;34m=\u001b[0m \u001b[0mx\u001b[0m\u001b[0;34m[\u001b[0m\u001b[0;34m[\u001b[0m\u001b[0;34m\"hany_eves\"\u001b[0m\u001b[0;34m,\u001b[0m\u001b[0;34m\"hany_eves_2\"\u001b[0m\u001b[0;34m,\u001b[0m\u001b[0;34m\"MEGTETT_KM\"\u001b[0m\u001b[0;34m,\u001b[0m\u001b[0;34m\"MEGTETT_KM_2\"\u001b[0m\u001b[0;34m,\u001b[0m\u001b[0;34m\"KLÍMA\"\u001b[0m\u001b[0;34m,\u001b[0m\u001b[0;34m\"LÉGZSÁK\"\u001b[0m\u001b[0;34m,\u001b[0m               \u001b[0;34m\"ALUFELNI\"\u001b[0m\u001b[0;34m,\u001b[0m\u001b[0;34m\"ASR\"\u001b[0m\u001b[0;34m,\u001b[0m\u001b[0;34m\"AUTOMATA\"\u001b[0m\u001b[0;34m,\u001b[0m\u001b[0;34m\"BI-XENON\"\u001b[0m\u001b[0;34m,\u001b[0m\u001b[0;34m\"BLUETOOTH\"\u001b[0m\u001b[0;34m,\u001b[0m\u001b[0;34m\"LOERO\"\u001b[0m\u001b[0;34m,\u001b[0m               \u001b[0;34m\"audi\"\u001b[0m\u001b[0;34m,\u001b[0m\u001b[0;34m\"mercedes-benz\"\u001b[0m\u001b[0;34m,\u001b[0m\u001b[0;34m\"bmw\"\u001b[0m\u001b[0;34m,\u001b[0m\u001b[0;34m\"infiniti\"\u001b[0m\u001b[0;34m,\u001b[0m\u001b[0;34m\"jaguar\"\u001b[0m\u001b[0;34m,\u001b[0m\u001b[0;34m\"land_rover\"\u001b[0m\u001b[0;34m,\u001b[0m\u001b[0;34m\"porsche\"\u001b[0m\u001b[0;34m,\u001b[0m               \u001b[0;34m\"lexus\"\u001b[0m\u001b[0;34m,\u001b[0m\u001b[0;34m\"maserati\"\u001b[0m\u001b[0;34m,\u001b[0m\u001b[0;34m\"Hibrid\"\u001b[0m\u001b[0;34m,\u001b[0m\u001b[0;34m\"Elektromos\"\u001b[0m\u001b[0;34m,\u001b[0m\u001b[0;34m\"Dízel\"\u001b[0m\u001b[0;34m,\u001b[0m\u001b[0;34m\"Benzin\"\u001b[0m\u001b[0;34m]\u001b[0m\u001b[0;34m]\u001b[0m\u001b[0;34m.\u001b[0m\u001b[0mfillna\u001b[0m\u001b[0;34m(\u001b[0m\u001b[0;36m0\u001b[0m\u001b[0;34m)\u001b[0m\u001b[0;34m\u001b[0m\u001b[0;34m\u001b[0m\u001b[0m\n\u001b[0m",
      "\u001b[0;32m/home/berei/.local/lib/python3.6/site-packages/pandas/core/frame.py\u001b[0m in \u001b[0;36m__getitem__\u001b[0;34m(self, key)\u001b[0m\n\u001b[1;32m   2932\u001b[0m                 \u001b[0mkey\u001b[0m \u001b[0;34m=\u001b[0m \u001b[0mlist\u001b[0m\u001b[0;34m(\u001b[0m\u001b[0mkey\u001b[0m\u001b[0;34m)\u001b[0m\u001b[0;34m\u001b[0m\u001b[0;34m\u001b[0m\u001b[0m\n\u001b[1;32m   2933\u001b[0m             indexer = self.loc._convert_to_indexer(key, axis=1,\n\u001b[0;32m-> 2934\u001b[0;31m                                                    raise_missing=True)\n\u001b[0m\u001b[1;32m   2935\u001b[0m \u001b[0;34m\u001b[0m\u001b[0m\n\u001b[1;32m   2936\u001b[0m         \u001b[0;31m# take() does not accept boolean indexers\u001b[0m\u001b[0;34m\u001b[0m\u001b[0;34m\u001b[0m\u001b[0;34m\u001b[0m\u001b[0m\n",
      "\u001b[0;32m/home/berei/.local/lib/python3.6/site-packages/pandas/core/indexing.py\u001b[0m in \u001b[0;36m_convert_to_indexer\u001b[0;34m(self, obj, axis, is_setter, raise_missing)\u001b[0m\n\u001b[1;32m   1352\u001b[0m                 kwargs = {'raise_missing': True if is_setter else\n\u001b[1;32m   1353\u001b[0m                           raise_missing}\n\u001b[0;32m-> 1354\u001b[0;31m                 \u001b[0;32mreturn\u001b[0m \u001b[0mself\u001b[0m\u001b[0;34m.\u001b[0m\u001b[0m_get_listlike_indexer\u001b[0m\u001b[0;34m(\u001b[0m\u001b[0mobj\u001b[0m\u001b[0;34m,\u001b[0m \u001b[0maxis\u001b[0m\u001b[0;34m,\u001b[0m \u001b[0;34m**\u001b[0m\u001b[0mkwargs\u001b[0m\u001b[0;34m)\u001b[0m\u001b[0;34m[\u001b[0m\u001b[0;36m1\u001b[0m\u001b[0;34m]\u001b[0m\u001b[0;34m\u001b[0m\u001b[0;34m\u001b[0m\u001b[0m\n\u001b[0m\u001b[1;32m   1355\u001b[0m         \u001b[0;32melse\u001b[0m\u001b[0;34m:\u001b[0m\u001b[0;34m\u001b[0m\u001b[0;34m\u001b[0m\u001b[0m\n\u001b[1;32m   1356\u001b[0m             \u001b[0;32mtry\u001b[0m\u001b[0;34m:\u001b[0m\u001b[0;34m\u001b[0m\u001b[0;34m\u001b[0m\u001b[0m\n",
      "\u001b[0;32m/home/berei/.local/lib/python3.6/site-packages/pandas/core/indexing.py\u001b[0m in \u001b[0;36m_get_listlike_indexer\u001b[0;34m(self, key, axis, raise_missing)\u001b[0m\n\u001b[1;32m   1159\u001b[0m         self._validate_read_indexer(keyarr, indexer,\n\u001b[1;32m   1160\u001b[0m                                     \u001b[0mo\u001b[0m\u001b[0;34m.\u001b[0m\u001b[0m_get_axis_number\u001b[0m\u001b[0;34m(\u001b[0m\u001b[0maxis\u001b[0m\u001b[0;34m)\u001b[0m\u001b[0;34m,\u001b[0m\u001b[0;34m\u001b[0m\u001b[0;34m\u001b[0m\u001b[0m\n\u001b[0;32m-> 1161\u001b[0;31m                                     raise_missing=raise_missing)\n\u001b[0m\u001b[1;32m   1162\u001b[0m         \u001b[0;32mreturn\u001b[0m \u001b[0mkeyarr\u001b[0m\u001b[0;34m,\u001b[0m \u001b[0mindexer\u001b[0m\u001b[0;34m\u001b[0m\u001b[0;34m\u001b[0m\u001b[0m\n\u001b[1;32m   1163\u001b[0m \u001b[0;34m\u001b[0m\u001b[0m\n",
      "\u001b[0;32m/home/berei/.local/lib/python3.6/site-packages/pandas/core/indexing.py\u001b[0m in \u001b[0;36m_validate_read_indexer\u001b[0;34m(self, key, indexer, axis, raise_missing)\u001b[0m\n\u001b[1;32m   1250\u001b[0m             \u001b[0;32mif\u001b[0m \u001b[0;32mnot\u001b[0m\u001b[0;34m(\u001b[0m\u001b[0mself\u001b[0m\u001b[0;34m.\u001b[0m\u001b[0mname\u001b[0m \u001b[0;34m==\u001b[0m \u001b[0;34m'loc'\u001b[0m \u001b[0;32mand\u001b[0m \u001b[0;32mnot\u001b[0m \u001b[0mraise_missing\u001b[0m\u001b[0;34m)\u001b[0m\u001b[0;34m:\u001b[0m\u001b[0;34m\u001b[0m\u001b[0;34m\u001b[0m\u001b[0m\n\u001b[1;32m   1251\u001b[0m                 \u001b[0mnot_found\u001b[0m \u001b[0;34m=\u001b[0m \u001b[0mlist\u001b[0m\u001b[0;34m(\u001b[0m\u001b[0mset\u001b[0m\u001b[0;34m(\u001b[0m\u001b[0mkey\u001b[0m\u001b[0;34m)\u001b[0m \u001b[0;34m-\u001b[0m \u001b[0mset\u001b[0m\u001b[0;34m(\u001b[0m\u001b[0max\u001b[0m\u001b[0;34m)\u001b[0m\u001b[0;34m)\u001b[0m\u001b[0;34m\u001b[0m\u001b[0;34m\u001b[0m\u001b[0m\n\u001b[0;32m-> 1252\u001b[0;31m                 \u001b[0;32mraise\u001b[0m \u001b[0mKeyError\u001b[0m\u001b[0;34m(\u001b[0m\u001b[0;34m\"{} not in index\"\u001b[0m\u001b[0;34m.\u001b[0m\u001b[0mformat\u001b[0m\u001b[0;34m(\u001b[0m\u001b[0mnot_found\u001b[0m\u001b[0;34m)\u001b[0m\u001b[0;34m)\u001b[0m\u001b[0;34m\u001b[0m\u001b[0;34m\u001b[0m\u001b[0m\n\u001b[0m\u001b[1;32m   1253\u001b[0m \u001b[0;34m\u001b[0m\u001b[0m\n\u001b[1;32m   1254\u001b[0m             \u001b[0;31m# we skip the warning on Categorical/Interval\u001b[0m\u001b[0;34m\u001b[0m\u001b[0;34m\u001b[0m\u001b[0;34m\u001b[0m\u001b[0m\n",
      "\u001b[0;31mKeyError\u001b[0m: \"['BI-XENON'] not in index\""
     ]
    }
   ],
   "source": [
    "szukitett = x[[\"hany_eves\",\"hany_eves_2\",\"MEGTETT_KM\",\"MEGTETT_KM_2\",\"KLÍMA\",\"LÉGZSÁK\",\\\n",
    "               \"ALUFELNI\",\"ASR\",\"AUTOMATA\",\"BI-XENON\",\"BLUETOOTH\",\"LOERO\",\\\n",
    "               \"audi\",\"mercedes-benz\",\"bmw\",\"infiniti\",\"jaguar\",\"land_rover\",\"porsche\",\\\n",
    "               \"lexus\",\"maserati\",\"Hibrid\",\"Elektromos\",\"Dízel\",\"Benzin\"]].fillna(0)"
   ]
  },
  {
   "cell_type": "code",
   "execution_count": null,
   "metadata": {},
   "outputs": [],
   "source": [
    "x_train, x_test, y_train, y_test = train_test_split(szukitett.dropna(), lg10_y, test_size=0.2, random_state=42)\n",
    "\n",
    "lreg = LinearRegression()\n",
    "\n",
    "result = lreg.fit(x_train, y_train)\n",
    "\n",
    "y_test_pred = result.predict(x_test)\n",
    "\n",
    "lin_mse = mean_squared_error(y_test, y_test_pred)\n",
    "lin_rmse = pd.np.sqrt(lin_mse)\n",
    "lin_rmse\n",
    "\n",
    "print(result.intercept_)\n"
   ]
  },
  {
   "cell_type": "code",
   "execution_count": null,
   "metadata": {},
   "outputs": [],
   "source": [
    "pd.DataFrame(szukitett.loc[9]).to_csv(\"proba.csv\")"
   ]
  },
  {
   "cell_type": "code",
   "execution_count": null,
   "metadata": {},
   "outputs": [],
   "source": [
    "import pickle\n",
    "\n",
    "\n",
    "output_file = str(Path('data/finalized_model.sav'))\n",
    "\n",
    "# save the model to disk\n",
    "\n",
    "pickle.dump(result, open(output_file, 'wb'))"
   ]
  },
  {
   "cell_type": "code",
   "execution_count": null,
   "metadata": {},
   "outputs": [],
   "source": []
  },
  {
   "cell_type": "code",
   "execution_count": null,
   "metadata": {},
   "outputs": [],
   "source": []
  },
  {
   "cell_type": "code",
   "execution_count": null,
   "metadata": {},
   "outputs": [],
   "source": [
    "import json"
   ]
  },
  {
   "cell_type": "code",
   "execution_count": null,
   "metadata": {},
   "outputs": [],
   "source": [
    "szukitett[\"hany_eves\"].nunique()"
   ]
  },
  {
   "cell_type": "code",
   "execution_count": null,
   "metadata": {},
   "outputs": [],
   "source": [
    "nuniques = [szukitett[col].nunique() for col in szukitett.columns]"
   ]
  },
  {
   "cell_type": "code",
   "execution_count": null,
   "metadata": {},
   "outputs": [],
   "source": [
    "number_vals = [idx for idx,val in enumerate(nuniques) if val >2]"
   ]
  },
  {
   "cell_type": "code",
   "execution_count": null,
   "metadata": {},
   "outputs": [],
   "source": [
    "auto_marka = ['audi', 'mercedes-benz', 'bmw', 'infiniti',\n",
    "              'jaguar', 'land_rover', 'porsche', 'lexus', 'maserati']\n",
    "hajtaslanc = ['Hibrid', 'Elektromos', 'Dízel', 'Benzin']\n",
    "felszereltseg = szukitett.columns.drop(auto_marka + hajtaslanc + list(szukitett.columns[number_vals]))"
   ]
  },
  {
   "cell_type": "code",
   "execution_count": null,
   "metadata": {},
   "outputs": [],
   "source": [
    "felszereltseg"
   ]
  },
  {
   "cell_type": "code",
   "execution_count": null,
   "metadata": {},
   "outputs": [],
   "source": [
    "details = {\"number\":list(szukitett.columns[number_vals]),\"Dropdown\":{\"auto_marka\":auto_marka,\"hajtaslanc\":hajtaslanc}\\\n",
    "          ,\"boolen\":list(felszereltseg),\"all\":list(szukitett.columns)}"
   ]
  },
  {
   "cell_type": "code",
   "execution_count": null,
   "metadata": {},
   "outputs": [],
   "source": [
    "json_file = json.dumps(details)\n",
    "f = open(\"data/dict.json\",\"w\")\n",
    "f.write(json_file)\n",
    "f.close()"
   ]
  },
  {
   "cell_type": "code",
   "execution_count": null,
   "metadata": {},
   "outputs": [],
   "source": [
    "with open('data/dict.json') as json_file:  \n",
    "    data_dict = json.load(json_file)"
   ]
  },
  {
   "cell_type": "code",
   "execution_count": null,
   "metadata": {},
   "outputs": [],
   "source": [
    "data_dict"
   ]
  },
  {
   "cell_type": "code",
   "execution_count": null,
   "metadata": {
    "scrolled": true
   },
   "outputs": [],
   "source": [
    "result.coef_"
   ]
  },
  {
   "cell_type": "code",
   "execution_count": null,
   "metadata": {},
   "outputs": [],
   "source": [
    "len(x_train.columns)"
   ]
  },
  {
   "cell_type": "code",
   "execution_count": null,
   "metadata": {},
   "outputs": [],
   "source": [
    "data[\"number\"]"
   ]
  },
  {
   "cell_type": "code",
   "execution_count": null,
   "metadata": {},
   "outputs": [],
   "source": [
    "with open('data/dict.json') as json_file:  \n",
    "    data_dict = json.load(json_file)"
   ]
  },
  {
   "cell_type": "code",
   "execution_count": null,
   "metadata": {},
   "outputs": [],
   "source": [
    "numbers  = [val for idx,val in enumerate(data[\"number\"]) if data[\"number\"][idx][:5]!=data[\"number\"][idx-1][:5]]"
   ]
  },
  {
   "cell_type": "code",
   "execution_count": null,
   "metadata": {},
   "outputs": [],
   "source": [
    "list(data[\"Dropdown\"].keys())\n"
   ]
  },
  {
   "cell_type": "code",
   "execution_count": null,
   "metadata": {},
   "outputs": [],
   "source": []
  },
  {
   "cell_type": "code",
   "execution_count": null,
   "metadata": {},
   "outputs": [],
   "source": []
  },
  {
   "cell_type": "code",
   "execution_count": 229,
   "metadata": {},
   "outputs": [
    {
     "data": {
      "text/plain": [
       "{'Dropdown': {'auto_marka': ['audi',\n",
       "   'mercedes-benz',\n",
       "   'bmw',\n",
       "   'infiniti',\n",
       "   'jaguar',\n",
       "   'land_rover',\n",
       "   'porsche',\n",
       "   'lexus',\n",
       "   'maserati'],\n",
       "  'hajtaslanc': ['Hibrid', 'Elektromos', 'Dízel', 'Benzin']},\n",
       " 'all': ['hany_eves',\n",
       "  'hany_eves_2',\n",
       "  'MEGTETT_KM',\n",
       "  'MEGTETT_KM_2',\n",
       "  'KLÍMA',\n",
       "  'LÉGZSÁK',\n",
       "  'ALUFELNI',\n",
       "  'ASR',\n",
       "  'AUTOMATA',\n",
       "  'BI-XENON',\n",
       "  'BLUETOOTH',\n",
       "  'LOERO',\n",
       "  'audi',\n",
       "  'mercedes-benz',\n",
       "  'bmw',\n",
       "  'infiniti',\n",
       "  'jaguar',\n",
       "  'land_rover',\n",
       "  'porsche',\n",
       "  'lexus',\n",
       "  'maserati',\n",
       "  'Hibrid',\n",
       "  'Elektromos',\n",
       "  'Dízel',\n",
       "  'Benzin'],\n",
       " 'boolen': ['KLÍMA',\n",
       "  'LÉGZSÁK',\n",
       "  'ALUFELNI',\n",
       "  'ASR',\n",
       "  'AUTOMATA',\n",
       "  'BI-XENON',\n",
       "  'BLUETOOTH'],\n",
       " 'number': ['hany_eves', 'hany_eves_2', 'MEGTETT_KM', 'MEGTETT_KM_2', 'LOERO']}"
      ]
     },
     "execution_count": 229,
     "metadata": {},
     "output_type": "execute_result"
    }
   ],
   "source": [
    "data_dict"
   ]
  },
  {
   "cell_type": "code",
   "execution_count": 236,
   "metadata": {},
   "outputs": [
    {
     "data": {
      "text/plain": [
       "{'ALUFELNI': ['ALUFELNI'],\n",
       " 'ASR': ['ASR'],\n",
       " 'AUTOMATA': ['AUTOMATA'],\n",
       " 'BI-XENON': ['BI-XENON'],\n",
       " 'BLUETOOTH': ['BLUETOOTH'],\n",
       " 'KLÍMA': ['KLÍMA'],\n",
       " 'LOERO': ['LOERO'],\n",
       " 'LÉGZSÁK': ['LÉGZSÁK'],\n",
       " 'MEGTETT_KM': ['MEGTETT_KM'],\n",
       " 'auto_marka': ['auto_marka'],\n",
       " 'hajtaslanc': ['hajtaslanc'],\n",
       " 'hany_eves': ['hany_eves']}"
      ]
     },
     "execution_count": 236,
     "metadata": {},
     "output_type": "execute_result"
    }
   ],
   "source": [
    "{str(x):[x] for x in col_names}"
   ]
  },
  {
   "cell_type": "code",
   "execution_count": 233,
   "metadata": {},
   "outputs": [],
   "source": [
    "minden_szar = list(data_dict[\"Dropdown\"].keys()) + data_dict[\"boolen\"] + data_dict[\"number\"]"
   ]
  },
  {
   "cell_type": "code",
   "execution_count": 235,
   "metadata": {},
   "outputs": [],
   "source": [
    "numbers = [val for idx,val in enumerate(data_dict[\"number\"]) if data_dict[\"number\"][idx][:5]!=data_dict[\"number\"][idx-1][:5]]\n",
    "\n",
    "col_names = list(data_dict[\"Dropdown\"].keys()) + data_dict[\"boolen\"] + numbers"
   ]
  },
  {
   "cell_type": "code",
   "execution_count": null,
   "metadata": {},
   "outputs": [],
   "source": [
    "[Input('hany_eves', 'value'), Input('MEGTETT_KM', 'value'),Input('LOERO', 'value'), Input('KLÍMA', 'value'), Input('LÉGZSÁK', 'value'),\n",
    "Input('ALUFELNI', 'value'), Input('ASR', 'value'), Input('AUTOMATA', 'value'), Input('BI-XENON', 'value'), Input('BLUETOOTH', 'value'), \n",
    "Input('auto_marka', 'value'), Input('hajtaslanc', 'value')])"
   ]
  },
  {
   "cell_type": "code",
   "execution_count": 227,
   "metadata": {},
   "outputs": [
    {
     "name": "stdout",
     "output_type": "stream",
     "text": [
      "auto_marka\n",
      "hajtaslanc\n"
     ]
    }
   ],
   "source": [
    "for key in list(data_dict[\"Dropdown\"].keys()):\n",
    "    \n",
    "    print(key)"
   ]
  },
  {
   "cell_type": "code",
   "execution_count": 243,
   "metadata": {},
   "outputs": [
    {
     "data": {
      "text/plain": [
       "{'Dropdown': {'auto_marka': ['audi',\n",
       "   'mercedes-benz',\n",
       "   'bmw',\n",
       "   'infiniti',\n",
       "   'jaguar',\n",
       "   'land_rover',\n",
       "   'porsche',\n",
       "   'lexus',\n",
       "   'maserati'],\n",
       "  'hajtaslanc': ['Hibrid', 'Elektromos', 'Dízel', 'Benzin']},\n",
       " 'all': ['hany_eves',\n",
       "  'hany_eves_2',\n",
       "  'MEGTETT_KM',\n",
       "  'MEGTETT_KM_2',\n",
       "  'KLÍMA',\n",
       "  'LÉGZSÁK',\n",
       "  'ALUFELNI',\n",
       "  'ASR',\n",
       "  'AUTOMATA',\n",
       "  'BI-XENON',\n",
       "  'BLUETOOTH',\n",
       "  'LOERO',\n",
       "  'audi',\n",
       "  'mercedes-benz',\n",
       "  'bmw',\n",
       "  'infiniti',\n",
       "  'jaguar',\n",
       "  'land_rover',\n",
       "  'porsche',\n",
       "  'lexus',\n",
       "  'maserati',\n",
       "  'Hibrid',\n",
       "  'Elektromos',\n",
       "  'Dízel',\n",
       "  'Benzin'],\n",
       " 'boolen': ['KLÍMA',\n",
       "  'LÉGZSÁK',\n",
       "  'ALUFELNI',\n",
       "  'ASR',\n",
       "  'AUTOMATA',\n",
       "  'BI-XENON',\n",
       "  'BLUETOOTH'],\n",
       " 'number': ['hany_eves', 'hany_eves_2', 'MEGTETT_KM', 'MEGTETT_KM_2', 'LOERO']}"
      ]
     },
     "execution_count": 243,
     "metadata": {},
     "output_type": "execute_result"
    }
   ],
   "source": [
    "data_dict"
   ]
  },
  {
   "cell_type": "code",
   "execution_count": null,
   "metadata": {},
   "outputs": [],
   "source": [
    "\n",
    "@app.callback(Output('titkos', 'children'),\\\n",
    "[Input('hany_eves', 'value')])\n",
    "def titok(hany_eves, MEGTETT_KM, LOERO, KLÍMA, LÉGZSÁK, ALUFELNI, ASR, AUTOMATA, BI_XENON, BLUETOOTH, hajtaslanc,auto_marka):\n",
    "    d={'hany_eves': [hany_eves], 'MEGTETT': [MEGTETT_KM], 'LOERO': [LOERO],\"KLÍMA\":[KLÍMA], 'LÉGZSÁK': [LÉGZSÁK], 'ALUFELNI': [ALUFELNI], 'ASR': [ASR],\n",
    "    'AUTOMATA': [AUTOMATA], 'BI_XENON': [BI_XENON], 'BLUETOOTH': [BLUETOOTH], 'Márka': [auto_marka],\n",
    "    'hajtaslanc': [hajtaslanc]}\n",
    "\n",
    "\n",
    "    df = pd.DataFrame(data=d)\n",
    "\n",
    "\n",
    "    df = df.join(pd.get_dummies(df[\"Márka\"]))\n",
    "    df = df.drop([\"Márka\"], axis = 1)\n",
    "\n",
    "    df = df.join(pd.get_dummies(df[\"Üzemanyag\"]))\n",
    "    df = df.drop([\"Üzemanyag\"], axis = 1)\n",
    "\n",
    "    df = df.applymap(int)\n",
    "\n",
    "   # df[\"hany_eves_2\"] = df[\"hany_eves\"] ** 2\n",
    "    #df[\"MEGTETT_2\"] = df[\"MEGTETT\"] ** 2\n",
    "\n",
    "    #df.to_csv(\"proba_2.csv\")\n",
    "\n",
    "    print(df)\n",
    "\n",
    "    df_final = pd.merge(pd.DataFrame(0,index=range(1),columns=col_names), df, how = \"right\",on = list(df.columns)).fillna(0)\n",
    "\n",
    "    auto_erteke = 10 ** loaded_model.predict(df_final)[0]\n",
    "\n",
    "\n",
    "    print(auto_erteke)\n",
    "    return \"az általad megadott auto értéke: \" + str(int(auto_erteke)) + \" Ft\"\n"
   ]
  },
  {
   "cell_type": "code",
   "execution_count": 259,
   "metadata": {},
   "outputs": [
    {
     "data": {
      "text/plain": [
       "['hany_eves',\n",
       " 'hany_eves_2',\n",
       " 'MEGTETT_KM',\n",
       " 'MEGTETT_KM_2',\n",
       " 'KLÍMA',\n",
       " 'LÉGZSÁK',\n",
       " 'ALUFELNI',\n",
       " 'ASR',\n",
       " 'AUTOMATA',\n",
       " 'BI-XENON',\n",
       " 'BLUETOOTH',\n",
       " 'LOERO',\n",
       " 'audi',\n",
       " 'mercedes-benz',\n",
       " 'bmw',\n",
       " 'infiniti',\n",
       " 'jaguar',\n",
       " 'land_rover',\n",
       " 'porsche',\n",
       " 'lexus',\n",
       " 'maserati',\n",
       " 'Hibrid',\n",
       " 'Elektromos',\n",
       " 'Dízel',\n",
       " 'Benzin']"
      ]
     },
     "execution_count": 259,
     "metadata": {},
     "output_type": "execute_result"
    }
   ],
   "source": [
    "list(szukitett.columns)"
   ]
  },
  {
   "cell_type": "code",
   "execution_count": 260,
   "metadata": {},
   "outputs": [
    {
     "data": {
      "text/plain": [
       "['hany_eves',\n",
       " 'MEGTETT_KM',\n",
       " 'LOERO',\n",
       " 'KLÍMA',\n",
       " 'LÉGZSÁK',\n",
       " 'ALUFELNI',\n",
       " 'ASR',\n",
       " 'AUTOMATA',\n",
       " 'BI-XENON',\n",
       " 'BLUETOOTH',\n",
       " 'auto_marka',\n",
       " 'hajtaslanc']"
      ]
     },
     "execution_count": 260,
     "metadata": {},
     "output_type": "execute_result"
    }
   ],
   "source": [
    "col_names\n"
   ]
  },
  {
   "cell_type": "code",
   "execution_count": 244,
   "metadata": {},
   "outputs": [],
   "source": [
    "def fing(*args):\n",
    "    return args"
   ]
  },
  {
   "cell_type": "code",
   "execution_count": 245,
   "metadata": {},
   "outputs": [
    {
     "data": {
      "text/plain": [
       "(10, 20, 30)"
      ]
     },
     "execution_count": 245,
     "metadata": {},
     "output_type": "execute_result"
    }
   ],
   "source": [
    "fing(10,20,30)"
   ]
  },
  {
   "cell_type": "code",
   "execution_count": 246,
   "metadata": {},
   "outputs": [],
   "source": [
    "arglist = ['foo', 'fűű', 'ajj']"
   ]
  },
  {
   "cell_type": "code",
   "execution_count": 251,
   "metadata": {},
   "outputs": [
    {
     "data": {
      "text/plain": [
       "('foo', 'fűű', 'ajj')"
      ]
     },
     "execution_count": 251,
     "metadata": {},
     "output_type": "execute_result"
    }
   ],
   "source": [
    "fing(*arglist)"
   ]
  },
  {
   "cell_type": "code",
   "execution_count": 254,
   "metadata": {},
   "outputs": [],
   "source": [
    "col_names = numbers + data_dict[\"boolen\"]+ list(data_dict[\"Dropdown\"].keys())\n"
   ]
  },
  {
   "cell_type": "code",
   "execution_count": 255,
   "metadata": {},
   "outputs": [
    {
     "data": {
      "text/plain": [
       "['hany_eves',\n",
       " 'MEGTETT_KM',\n",
       " 'LOERO',\n",
       " 'KLÍMA',\n",
       " 'LÉGZSÁK',\n",
       " 'ALUFELNI',\n",
       " 'ASR',\n",
       " 'AUTOMATA',\n",
       " 'BI-XENON',\n",
       " 'BLUETOOTH',\n",
       " 'auto_marka',\n",
       " 'hajtaslanc']"
      ]
     },
     "execution_count": 255,
     "metadata": {},
     "output_type": "execute_result"
    }
   ],
   "source": [
    "col_names"
   ]
  },
  {
   "cell_type": "code",
   "execution_count": null,
   "metadata": {},
   "outputs": [],
   "source": []
  }
 ],
 "metadata": {
  "kernelspec": {
   "display_name": "Python 3",
   "language": "python",
   "name": "python3"
  },
  "language_info": {
   "codemirror_mode": {
    "name": "ipython",
    "version": 3
   },
   "file_extension": ".py",
   "mimetype": "text/x-python",
   "name": "python",
   "nbconvert_exporter": "python",
   "pygments_lexer": "ipython3",
   "version": "3.6.7"
  }
 },
 "nbformat": 4,
 "nbformat_minor": 2
}
