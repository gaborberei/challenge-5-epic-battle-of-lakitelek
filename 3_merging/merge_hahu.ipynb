{
 "cells": [
  {
   "cell_type": "markdown",
   "metadata": {},
   "source": [
    "# AAA - kurzushétvége - Lineáris modell rész"
   ]
  },
  {
   "cell_type": "code",
   "execution_count": null,
   "metadata": {},
   "outputs": [],
   "source": [
    "#adatok betöltése"
   ]
  },
  {
   "cell_type": "code",
   "execution_count": null,
   "metadata": {},
   "outputs": [],
   "source": [
    "import pandas as pd\n",
    "import numpy as np\n",
    "from datetime import datetime\n",
    "import time\n",
    "import glob"
   ]
  },
  {
   "cell_type": "code",
   "execution_count": null,
   "metadata": {},
   "outputs": [],
   "source": [
    "files = glob.glob('../2_data_manipulation/data/*.csv')"
   ]
  },
  {
   "cell_type": "code",
   "execution_count": null,
   "metadata": {},
   "outputs": [],
   "source": [
    "li = []\n",
    "\n",
    "\n",
    "for filename in files:\n",
    "    df = pd.read_csv(filename, index_col=None, header=0)\n",
    "    li.append(df)\n",
    "\n",
    "\n",
    "autok_osszes_df = pd.concat(li, axis=0, ignore_index=True)"
   ]
  },
  {
   "cell_type": "code",
   "execution_count": null,
   "metadata": {},
   "outputs": [],
   "source": [
    "#A statikus df kialakítása\n",
    "\n",
    "autok_statikus_df = autok_osszes_df.drop(['price','price-parsed','datum'], axis=1).drop_duplicates()\n",
    "\n",
    "###Kész!"
   ]
  },
  {
   "cell_type": "code",
   "execution_count": null,
   "metadata": {},
   "outputs": [],
   "source": [
    "def idokinyero(df):\n",
    "    #df['datum'] = pd.to_datetime(df['datum'])\n",
    "    df_s = df.sort_values(by = ['datum'])\n",
    "    return pd.Series({'eslo_nap': df_s['datum'].min(), 'utolso_nap': df_s['datum'].max(),\n",
    "                      'eltelt_napok': (df_s['datum'].max()-df_s['datum'].min()).days,\n",
    "                      'kezdeti_ar': df_s['price-parsed'].iloc[0], 'vegso_ar': df_s['price-parsed'].iloc[-1]})"
   ]
  },
  {
   "cell_type": "code",
   "execution_count": null,
   "metadata": {},
   "outputs": [],
   "source": [
    "auto_idoben_valtozo_df = autok_osszes_df[['link','datum','price-parsed']]"
   ]
  },
  {
   "cell_type": "code",
   "execution_count": null,
   "metadata": {
    "scrolled": true
   },
   "outputs": [],
   "source": [
    "auto_idoben_valtozo_df['datum'] = pd.to_datetime(auto_idoben_valtozo_df['datum'])"
   ]
  },
  {
   "cell_type": "code",
   "execution_count": null,
   "metadata": {},
   "outputs": [],
   "source": [
    "%%time\n",
    "auto_idoinfo_df = auto_idoben_valtozo_df.groupby('link').apply(idokinyero)"
   ]
  },
  {
   "cell_type": "code",
   "execution_count": null,
   "metadata": {},
   "outputs": [],
   "source": [
    "auto_idoinfo_df['arkulonbseg'] = auto_idoinfo_df['vegso_ar'] - auto_idoinfo_df['kezdeti_ar']"
   ]
  },
  {
   "cell_type": "code",
   "execution_count": null,
   "metadata": {},
   "outputs": [],
   "source": [
    "#auto_idoinfo_df['arkulonbseg'].value_counts()\n",
    "#auto_idoinfo_df.head(10)\n",
    "#gb_dic['eltelt_napok'].iloc[-1]"
   ]
  },
  {
   "cell_type": "code",
   "execution_count": null,
   "metadata": {},
   "outputs": [],
   "source": [
    "auto_idoinfo_df['sold'] = np.where(auto_idoinfo_df['utolso_nap'] < auto_idoinfo_df['utolso_nap'].max(), 1,0 )\n",
    "\n",
    "auto_idoinfo_df['eladasig_nap'] = np.where(auto_idoinfo_df['sold'] == 1,auto_idoinfo_df['eltelt_napok'], np.nan )\n",
    "\n",
    "auto_idoinfo_df['piacon_nap'] = np.where(auto_idoinfo_df['sold'] == 0, auto_idoinfo_df['eltelt_napok'], np.nan )\n",
    "\n"
   ]
  },
  {
   "cell_type": "code",
   "execution_count": null,
   "metadata": {},
   "outputs": [],
   "source": [
    "auto_adat_kesz = autok_statikus_df.merge(auto_idoinfo_df.reset_index(), on='link')"
   ]
  },
  {
   "cell_type": "code",
   "execution_count": null,
   "metadata": {},
   "outputs": [],
   "source": [
    "auto_adat_kesz.head(10)"
   ]
  },
  {
   "cell_type": "code",
   "execution_count": null,
   "metadata": {},
   "outputs": [],
   "source": [
    "auto_adat_kesz.to_csv('data/auto_data_model.csv')"
   ]
  },
  {
   "cell_type": "code",
   "execution_count": null,
   "metadata": {},
   "outputs": [],
   "source": []
  }
 ],
 "metadata": {
  "kernelspec": {
   "display_name": "Python 3",
   "language": "python",
   "name": "python3"
  },
  "language_info": {
   "codemirror_mode": {
    "name": "ipython",
    "version": 3
   },
   "file_extension": ".py",
   "mimetype": "text/x-python",
   "name": "python",
   "nbconvert_exporter": "python",
   "pygments_lexer": "ipython3",
   "version": "3.6.7"
  }
 },
 "nbformat": 4,
 "nbformat_minor": 2
}
